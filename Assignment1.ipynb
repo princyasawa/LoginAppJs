{
 "cells": [
  {
   "cell_type": "markdown",
   "metadata": {},
   "source": [
    "# Assignment 1 - Group 22"
   ]
  },
  {
   "cell_type": "code",
   "execution_count": 1,
   "metadata": {},
   "outputs": [],
   "source": [
    "import numpy as np\n",
    "import random\n",
    "import matplotlib.pyplot as plt"
   ]
  },
  {
   "cell_type": "markdown",
   "metadata": {},
   "source": [
    "### Utilities"
   ]
  },
  {
   "cell_type": "code",
   "execution_count": 2,
   "metadata": {},
   "outputs": [],
   "source": [
    "# Set a random seed for reproducibility\n",
    "np.random.seed(25)"
   ]
  },
  {
   "cell_type": "code",
   "execution_count": 3,
   "metadata": {},
   "outputs": [
    {
     "data": {
      "text/plain": [
       "array([[   0., 4727., 1205., ..., 1542., 2379., 3744.],\n",
       "       [4727.,    0., 3588., ..., 5461., 4390., 2088.],\n",
       "       [1205., 3588.,    0., ..., 2023., 1867., 2560.],\n",
       "       ...,\n",
       "       [1542., 5461., 2023., ...,    0., 1644., 3928.],\n",
       "       [2379., 4390., 1867., ..., 1644.,    0., 2532.],\n",
       "       [3744., 2088., 2560., ..., 3928., 2532.,    0.]])"
      ]
     },
     "execution_count": 3,
     "metadata": {},
     "output_type": "execute_result"
    }
   ],
   "source": [
    "# Load the dataset\n",
    "dataset = np.loadtxt(\"att48_d.txt\")\n",
    "dataset"
   ]
  },
  {
   "cell_type": "code",
   "execution_count": 4,
   "metadata": {
    "scrolled": true
   },
   "outputs": [],
   "source": [
    "# Generate city indices from 0\n",
    "cityIndex=[i for i in range(len(dataset))]"
   ]
  },
  {
   "cell_type": "markdown",
   "metadata": {},
   "source": [
    "### Helper Functions"
   ]
  },
  {
   "cell_type": "code",
   "execution_count": 5,
   "metadata": {},
   "outputs": [],
   "source": [
    "def calcDist(cityindex, startCity=0):\n",
    "    \"\"\" Calculates the distance of roundtrip given cities in an order and returns the negative of it.\n",
    "    \n",
    "        Params:\n",
    "            cityindex = array of cities\n",
    "            startCity = Starting city(indexed from 0)\n",
    "        Returns:\n",
    "            -dist = negative of distance for the round trip. \n",
    "    \"\"\"\n",
    "    dist=0\n",
    "    n=len(cityindex)\n",
    "    for i in range(startCity,startCity+n):\n",
    "        dist+=dataset[cityindex[i%n]][cityindex[(i+1)%n]]\n",
    "    return -dist"
   ]
  },
  {
   "cell_type": "code",
   "execution_count": 6,
   "metadata": {},
   "outputs": [],
   "source": [
    "def genYt(S):\n",
    "    \"\"\" Generates the cost array(negative of distance) of Sample Space S\n",
    "        \n",
    "        Params:\n",
    "            S = SampleSpace\n",
    "        Returns:\n",
    "            Yt = Cost array\n",
    "    \"\"\"\n",
    "    Yt = np.array([calcDist(S[i]) for i in range(len(S))])\n",
    "    return Yt"
   ]
  },
  {
   "cell_type": "code",
   "execution_count": 7,
   "metadata": {},
   "outputs": [],
   "source": [
    "def genUt(Y):\n",
    "    \"\"\" Generates Non Negative scores of Yt\n",
    "                \n",
    "        Params:\n",
    "            Y = Cost array\n",
    "        Returns:\n",
    "            U = Non Negative Cost array\n",
    "    \"\"\"\n",
    "    return Y - min(Y)"
   ]
  },
  {
   "cell_type": "code",
   "execution_count": 8,
   "metadata": {},
   "outputs": [],
   "source": [
    "def evalPt(U):\n",
    "    \"\"\" Returns the Fitness Scores of U\n",
    "                \n",
    "        Params:\n",
    "            U = Non Negative cost array\n",
    "        Returns:\n",
    "            P = Fitness scores\n",
    "    \"\"\"\n",
    "    U_sum = sum(U)\n",
    "    U = U / U_sum\n",
    "    return U"
   ]
  },
  {
   "cell_type": "code",
   "execution_count": 9,
   "metadata": {},
   "outputs": [],
   "source": [
    "def genChild(parent):\n",
    "    \"\"\" Generates a child by copying and swapping two indices from the parent.\n",
    "                \n",
    "        Params:\n",
    "            parent = a sample space\n",
    "        Returns:\n",
    "            child = parent with two indices randomly swapped\n",
    "    \"\"\"\n",
    "    i = range(len(parent))\n",
    "    i1, i2 = random.sample(i, 2)\n",
    "    child = np.copy(parent)\n",
    "    child[i1], child[i2] = child[i2], child[i1]\n",
    "    return child"
   ]
  },
  {
   "cell_type": "code",
   "execution_count": 10,
   "metadata": {},
   "outputs": [],
   "source": [
    "def select_best(S1, S2, Y1, Y2, m):\n",
    "    \"\"\" Selelct best S and Y with least cost from S1 and S2 with cost Y1 and Y2\n",
    "            \n",
    "        Params:\n",
    "            S1 = SampleSpace 1\n",
    "            S2 = SampleSpace 2\n",
    "            Y1 = Cost array 1\n",
    "            Y2 = Cost array 2\n",
    "            m = population size\n",
    "        Returns:\n",
    "            S_best = best samplespace among them\n",
    "            Y_best = cost array of best sample space\n",
    "    \"\"\"\n",
    "    best = []\n",
    "    for i in range(len(Y1)):\n",
    "        best.append([Y1[i], i, 1]) # Cost, Index, position 1(Y1)\n",
    "    for i in range(len(Y2)):\n",
    "        best.append([Y2[i], i, 2]) # Cost, Index, position 2(Y2)\n",
    "    best.sort(reverse=True)    # Sort from best to last wrt to cost\n",
    "    S_best = []   # Empty lists to store the best children and costs\n",
    "    Y_best = []\n",
    "    for i in range(m): # check all children for which is best\n",
    "        cost, index, pos = best[i]\n",
    "        Y_best.append(cost)\n",
    "        \n",
    "        # Check the best of two\n",
    "        if pos ==1:\n",
    "            S_best.append(list(S1[index])) # If the top value is from S1 then add S1 to the best list\n",
    "        if pos ==2:\n",
    "            S_best.append(list(S2[index])) # If the top value is from S2 then add S2 to the best list\n",
    "    return np.array(S_best), np.array(Y_best)"
   ]
  },
  {
   "cell_type": "code",
   "execution_count": 11,
   "metadata": {},
   "outputs": [],
   "source": [
    "# Algoirthm\n",
    "def Search(cityIndex, pop_size, iterations=1000):\n",
    "    \"\"\" Stochastic Search. \n",
    "    \n",
    "        Params:\n",
    "            cityIndex = cities indexes in order\n",
    "            pop_size = size of population\n",
    "            iterations = no of iterations of the algorithm\n",
    "        Returns:\n",
    "            opt_path = optimal path found\n",
    "            opt_Y = cost of the optimal path found\n",
    "    \"\"\"\n",
    "    # Initialization\n",
    "    m = pop_size # Population Size\n",
    "    SampleSpace = [] # Initial Sample Space by random shuffling\n",
    "    Y_initial = [] # Cost for the initial sample space\n",
    "    for i in range(m):\n",
    "        np.random.shuffle(cityIndex)\n",
    "        Y_initial.append(calcDist(cityIndex)) \n",
    "        SampleSpace.append(list(cityIndex))\n",
    "    SampleSpace = np.array(SampleSpace)\n",
    "    Y_initial = np.array(Y_initial)\n",
    "    S = SampleSpace    # define initial sample space and cost \n",
    "    Y = Y_initial\n",
    "    opt_Y = Y[0] #we will check for optimum solution at each and every step\n",
    "    opt_path = S[0]\n",
    "    # Loop for number of Iterations\n",
    "    for t in range(iterations):\n",
    "        U = genUt(Y)\n",
    "        P = evalPt(U) \n",
    "        P = np.around(P*m) \n",
    "        P = np.int64(P) \n",
    "        S_new=[]\n",
    "        for j in range(len(S)):\n",
    "            for k in range(P[j]):\n",
    "                S_new.append(list(genChild(S[j])))          \n",
    "        S_new=np.array(S_new) \n",
    "        Y_new=genYt(S_new)\n",
    "        S,Y=select_best(S,S_new,Y,Y_new,m) \n",
    "        for i in range(m):\n",
    "            if Y[i] > opt_Y:\n",
    "                opt_Y = Y[i]\n",
    "                opt_path = S[i]\n",
    "    opt_Y = -opt_Y  # Make cost positive \n",
    "    return opt_path, opt_Y"
   ]
  },
  {
   "cell_type": "markdown",
   "metadata": {},
   "source": [
    "### Find the Optimal Population Size"
   ]
  },
  {
   "cell_type": "code",
   "execution_count": 12,
   "metadata": {},
   "outputs": [
    {
     "data": {
      "text/plain": [
       "array([  1,   2,   3,   4,   5,   6,   7,   8,   9,  10,  11,  12,  13,\n",
       "        14,  15,  16,  17,  18,  19,  20,  21,  22,  23,  24,  25,  26,\n",
       "        27,  28,  29,  30,  31,  32,  33,  34,  35,  36,  37,  38,  39,\n",
       "        40,  41,  42,  43,  44,  45,  46,  47,  48,  49,  50,  51,  52,\n",
       "        53,  54,  55,  56,  57,  58,  59,  60,  61,  62,  63,  64,  65,\n",
       "        66,  67,  68,  69,  70,  71,  72,  73,  74,  75,  76,  77,  78,\n",
       "        79,  80,  81,  82,  83,  84,  85,  86,  87,  88,  89,  90,  91,\n",
       "        92,  93,  94,  95,  96,  97,  98,  99, 100, 101, 102, 103, 104,\n",
       "       105, 106, 107, 108, 109, 110, 111, 112, 113, 114, 115, 116, 117,\n",
       "       118, 119, 120, 121, 122, 123, 124, 125, 126, 127, 128, 129, 130,\n",
       "       131, 132, 133, 134, 135, 136, 137, 138, 139, 140, 141, 142, 143,\n",
       "       144, 145, 146, 147, 148, 149, 150, 151, 152, 153, 154, 155, 156,\n",
       "       157, 158, 159, 160, 161, 162, 163, 164, 165, 166, 167, 168, 169,\n",
       "       170, 171, 172, 173, 174, 175, 176, 177, 178, 179, 180, 181, 182,\n",
       "       183, 184, 185, 186, 187, 188, 189, 190, 191, 192, 193, 194, 195,\n",
       "       196, 197, 198, 199, 200])"
      ]
     },
     "execution_count": 12,
     "metadata": {},
     "output_type": "execute_result"
    }
   ],
   "source": [
    "opt_pop_size = np.arange(1, 201) # Population size from 1 to 100 to chose the best\n",
    "opt_pop_size"
   ]
  },
  {
   "cell_type": "code",
   "execution_count": 13,
   "metadata": {},
   "outputs": [
    {
     "name": "stderr",
     "output_type": "stream",
     "text": [
      "/home/wally1002/.local/lib/python3.6/site-packages/ipykernel_launcher.py:10: RuntimeWarning: invalid value encountered in true_divide\n",
      "  # Remove the CWD from sys.path while we load stuff.\n"
     ]
    }
   ],
   "source": [
    "# To find the optimal population size between 1 and 100\n",
    "opt_cost = []\n",
    "opt_paths = []\n",
    "for m in opt_pop_size:\n",
    "    SampleSpace = [] # Initial Sample Space by random shuffling\n",
    "    Y_initial = [] # Cost for the initial sample space\n",
    "    opt_path, opt_Y = Search(cityIndex,m)\n",
    "    opt_cost.append(opt_Y)"
   ]
  },
  {
   "cell_type": "code",
   "execution_count": 14,
   "metadata": {},
   "outputs": [
    {
     "data": {
      "image/png": "[encoded data removed]",
      "text/plain": [
       "<Figure size 432x288 with 1 Axes>"
      ]
     },
     "metadata": {
      "needs_background": "light"
     },
     "output_type": "display_data"
    }
   ],
   "source": [
    "plt.plot(opt_pop_size, opt_cost)\n",
    "plt.show()"
   ]
  },
  {
   "cell_type": "code",
   "execution_count": 15,
   "metadata": {},
   "outputs": [
    {
     "name": "stdout",
     "output_type": "stream",
     "text": [
      "Best Population size = 109\n"
     ]
    }
   ],
   "source": [
    "best_population_size = np.argmin(opt_cost) # Select the best population size\n",
    "print(\"Best Population size = {}\".format(best_population_size))"
   ]
  },
  {
   "cell_type": "code",
   "execution_count": 16,
   "metadata": {},
   "outputs": [],
   "source": [
    "opt_path, opt_cost = Search(cityIndex, pop_size=best_population_size)"
   ]
  },
  {
   "cell_type": "code",
   "execution_count": 17,
   "metadata": {},
   "outputs": [
    {
     "name": "stdout",
     "output_type": "stream",
     "text": [
      "The optimal path for No of children  = 109, No of iterations = 1000 is:\n",
      "\n",
      "38 --> 47 --> 4 --> 24 --> 13 --> 22 --> 10 --> 11 --> 32 --> 45 --> 35 --> 29 --> 42 --> 16 --> 26 --> 18 --> 36 --> 5 --> 27 --> 6 --> 17 --> 43 --> 30 --> 37 --> 2 --> 33 --> 12 --> 31 --> 23 --> 9 --> 25 --> 3 --> 34 --> 44 --> 41 --> 1 --> 28 --> 40 --> 15 --> 21 --> 0 --> 7 --> 8 --> 39 --> 14 --> 19 --> 46 --> 20 --> 38\n",
      "\n",
      "Cost of the optimal path calculated = 39887.0\n"
     ]
    }
   ],
   "source": [
    "# Priting out the path calculated\n",
    "print(\"The optimal path for No of children  = {}, No of iterations = {} is:\".format(best_population_size, 1000), end='\\n\\n')\n",
    "for i in range(len(opt_path)):\n",
    "    print(opt_path[i],end=\" --> \")\n",
    "print(opt_path[0],end=\"\\n\\n\")\n",
    "print(\"Cost of the optimal path calculated = {}\".format(opt_Y))"
   ]
  },
  {
   "cell_type": "markdown",
   "metadata": {},
   "source": [
    "### Results\n",
    "Optimal Path for the dataset:\n",
    "\n",
    "1 --> 8 --> 38 --> 31 --> 44 --> 18 --> 7 --> 28 --> 6 --> 37 --> 19 --> 27 --> 17 --> 43 --> 30 --> 36 --> 46 --> 33 --> 20 --> 47 --> 21 --> 32 --> 39 --> 48 --> 5 --> 42 --> 24 --> 10 --> 45 --> 35 --> 4 --> 26 --> 2 --> 29 --> 34 --> 41 --> 16 --> 22 --> 3 --> 23 --> 14 --> 25 --> 13 --> 11 --> 12 --> 15 --> 40 --> 9 --> 1\n",
    "\n",
    "Cost of optimal path\n",
    "**33551**"
   ]
  },
  {
   "cell_type": "code",
   "execution_count": null,
   "metadata": {},
   "outputs": [],
   "source": []
  }
 ],
 "metadata": {
  "kernelspec": {
   "display_name": "Python 3",
   "language": "python",
   "name": "python3"
  },
  "language_info": {
   "codemirror_mode": {
    "name": "ipython",
    "version": 3
   },
   "file_extension": ".py",
   "mimetype": "text/x-python",
   "name": "python",
   "nbconvert_exporter": "python",
   "pygments_lexer": "ipython3",
   "version": "3.6.9"
  }
 },
 "nbformat": 4,
 "nbformat_minor": 4
}
